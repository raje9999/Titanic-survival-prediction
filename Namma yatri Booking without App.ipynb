{
  "nbformat": 4,
  "nbformat_minor": 0,
  "metadata": {
    "colab": {
      "provenance": [],
      "toc_visible": true,
      "authorship_tag": "ABX9TyONeMq85JJaCM91r/dStlnX",
      "include_colab_link": true
    },
    "kernelspec": {
      "name": "python3",
      "display_name": "Python 3"
    },
    "language_info": {
      "name": "python"
    }
  },
  "cells": [
    {
      "cell_type": "markdown",
      "metadata": {
        "id": "view-in-github",
        "colab_type": "text"
      },
      "source": [
        "<a href=\"https://colab.research.google.com/github/raje9999/Titanic-survival-prediction/blob/main/Namma%20yatri%20Booking%20without%20App.ipynb\" target=\"_parent\"><img src=\"https://colab.research.google.com/assets/colab-badge.svg\" alt=\"Open In Colab\"/></a>"
      ]
    },
    {
      "cell_type": "code",
      "source": [
        "import requests\n",
        "\n",
        "api_key = \"your_api_key\"\n",
        "start_location = \"Bangalore\"\n",
        "end_location = \"Mysore\"\n",
        "\n",
        "url = f\"https://api.nammayatri.com/rides?api_key={api_key}&start_location={start_location}&end_location={end_location}\"\n",
        "\n",
        "response = requests.get(url)\n",
        "\n",
        "if response.status_code == 200:\n",
        "    rides = response.json()\n",
        "    for ride in rides:\n",
        "        print(ride)\n",
        "else:\n",
        "    print(\"Error occurred:\", response.status_code)\n"
      ],
      "metadata": {
        "id": "ETPU9DhXEOip"
      },
      "execution_count": null,
      "outputs": []
    }
  ]
}